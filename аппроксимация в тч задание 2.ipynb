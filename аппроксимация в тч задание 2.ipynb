{
 "cells": [
  {
   "cell_type": "markdown",
   "metadata": {},
   "source": [
    "# пункт 4"
   ]
  },
  {
   "cell_type": "code",
   "execution_count": 348,
   "metadata": {},
   "outputs": [],
   "source": [
    "def inp_matr():\n",
    "    while True:\n",
    "        try:\n",
    "            m = int(input('Сколько будет строк в матрице? '))\n",
    "        except:\n",
    "            print('Вы ввели не число')\n",
    "        else:\n",
    "            if m > 0:\n",
    "                break\n",
    "            else:\n",
    "                print('Вы ввели не натуральное число')\n",
    "\n",
    "    while True:\n",
    "        try:\n",
    "            n = int(input('Сколько будет столбцов в матрице? '))\n",
    "        except:\n",
    "            print('Вы ввели не число')\n",
    "        else:\n",
    "            if n > 0:\n",
    "                break\n",
    "            else:\n",
    "                print('Вы ввели не натуральное число')\n",
    "\n",
    "    print(\"Введите элементы матрицы (заполнение идёт по строкам)\")\n",
    "    a = []\n",
    "    for i in range(m):\n",
    "        a.append([])\n",
    "        for j in range(n):\n",
    "            while True:\n",
    "                try:\n",
    "                    elem = eval(input())\n",
    "                except:\n",
    "                    print('Вы ввели не число')\n",
    "                else:\n",
    "                    break\n",
    "            a[i].append(elem)\n",
    "    print(f'Полученная матрица - {a}')\n",
    "    return a\n"
   ]
  },
  {
   "cell_type": "code",
   "execution_count": 349,
   "metadata": {},
   "outputs": [],
   "source": [
    "def jacobi(A):\n",
    "    B = []\n",
    "    for i in range(len(A)):\n",
    "        B.append([])\n",
    "        B[i].append(A[i][-1])\n",
    "\n",
    "    B1 = []\n",
    "    for i in range(len(A)):\n",
    "        B1.append(A[i][-1])\n",
    "    print(B1)\n",
    "    for i in range(len(A)):\n",
    "        A[i].pop(-1)\n",
    "    print(A)\n",
    "    print(len(A))\n",
    "    tempx = [0 for i in range(len(A))]\n",
    "    print(tempx)\n",
    "    e = float(input('Введите эпсилон: '))\n",
    "    x=[0 for i in range(0,len(A))]\n",
    "    flag = True\n",
    "    count = 0 \n",
    "    for i in range(len(A)):\n",
    "        if (A[i][i] == 0):\n",
    "            for j in range(i, len(A)):\n",
    "                if A[j][i] != 0:\n",
    "                    A[j], A[i] = A[i], A[j]\n",
    "                    for k in range(i, len(B)):\n",
    "                        B1[j], B1[i] = B1[i], B1[j]\n",
    "    print(A)\n",
    "    print(B1)\n",
    "    while flag == True or count>100:\n",
    "        for i in range(len(A[i])): \n",
    "            tempx[i] = B1[i]\n",
    "            count +=1\n",
    "            for j in range(len(A[i])):\n",
    "                if i!=j:\n",
    "                    count +=1\n",
    "                    #print(A[i][j])\n",
    "                    tempx[i] -= A[i][j]*x[j]\n",
    "            try:\n",
    "                tempx[i]/=A[i][i]\n",
    "                count +=1\n",
    "                #print(tempx[i])\n",
    "            except ZeroDivisionError:\n",
    "                continue\n",
    "\n",
    "        norm = abs(x[0]-tempx[0])\n",
    "        for k in range(len(A[i])):\n",
    "            if abs(x[k]-tempx[k])<e:\n",
    "                flag = False\n",
    "            x[k] = tempx[k]\n",
    "            \n",
    "            \n",
    "            \n",
    "    print(f'Коэффициенты: {x}')\n",
    "    \n",
    "    \n",
    "    return x\n",
    "#     x2 = copy.deepcopy(x)\n",
    "#     print(f'Копия {x2}')\n",
    "\n",
    "\n"
   ]
  },
  {
   "cell_type": "code",
   "execution_count": 350,
   "metadata": {},
   "outputs": [],
   "source": [
    "def jdmethod_fast(a):\n",
    "    a = np.array(a, float)\n",
    "    a_orig = copy.deepcopy(a)\n",
    "    n = len(a)\n",
    "    m = len(a[0])\n",
    "    aobr = np.linalg.inv(a[:, :-1])\n",
    "    for k in range(n):\n",
    "        if np.fabs(a[k,k]) < 1.0e-12:\n",
    "            for i in range(k+1,n):\n",
    "                if np.fabs(a[i,k]) > np.fabs(a[k,k]):\n",
    "                    a[[i, k]] = a[[k, i]]\n",
    "                    break\n",
    "        pivot = a[k,k]\n",
    "        a[k] = a[k] / pivot\n",
    "\n",
    "        a[np.arange(n)!=k] -= a[np.arange(n)!=k][:, k].reshape((n-1, 1)) * a[k]\n",
    "    return a[:, -1:]"
   ]
  },
  {
   "cell_type": "code",
   "execution_count": 351,
   "metadata": {},
   "outputs": [],
   "source": [
    "import matplotlib.pyplot as plt\n",
    "import numpy as np\n",
    "import random \n",
    "import math\n",
    "import copy\n",
    "\n"
   ]
  },
  {
   "cell_type": "code",
   "execution_count": 360,
   "metadata": {},
   "outputs": [
    {
     "name": "stdout",
     "output_type": "stream",
     "text": [
      "Введите количество точек: 10\n",
      "Массив координат Y: [17, 81, 47, 3, 13, 67, 60, 27, 62, 61]\n",
      "Массив координат X: [10, 22, 24, 25, 28, 41, 43, 67, 79, 87]\n"
     ]
    }
   ],
   "source": [
    "n = int(input('Введите количество точек: '))\n",
    "x = [random.randint(0, 100) for i in range(n)]\n",
    "y = [random.randint(0, 100) for i in range(len(x))]\n",
    "print(f'Массив координат Y: {y}')\n",
    "x.sort()\n",
    "print(f'Массив координат X: {x}')\n",
    "\n",
    "points = []"
   ]
  },
  {
   "cell_type": "code",
   "execution_count": 361,
   "metadata": {},
   "outputs": [
    {
     "name": "stdout",
     "output_type": "stream",
     "text": [
      "Массив точек: [[10, 17], [22, 81], [24, 47], [25, 3], [28, 13], [41, 67], [43, 60], [67, 27], [79, 62], [87, 61]]\n"
     ]
    }
   ],
   "source": [
    "for i in range(len(x)):\n",
    "    points.append([])\n",
    "    points[i].append(x[i])\n",
    "    points[i].append(y[i])\n",
    "print(f'Массив точек: {points}')"
   ]
  },
  {
   "cell_type": "code",
   "execution_count": 362,
   "metadata": {},
   "outputs": [
    {
     "data": {
      "text/plain": [
       "[<matplotlib.lines.Line2D at 0x2015196aa90>]"
      ]
     },
     "execution_count": 362,
     "metadata": {},
     "output_type": "execute_result"
    },
    {
     "data": {
      "image/png": "[encoded data removed]",
      "text/plain": [
       "<Figure size 432x288 with 1 Axes>"
      ]
     },
     "metadata": {
      "needs_background": "light"
     },
     "output_type": "display_data"
    }
   ],
   "source": [
    "plt.plot(x, y)\n"
   ]
  },
  {
   "cell_type": "code",
   "execution_count": 363,
   "metadata": {},
   "outputs": [
    {
     "name": "stdout",
     "output_type": "stream",
     "text": [
      "Коэффициент k: 0.3521694611544861\n"
     ]
    }
   ],
   "source": [
    "# y = kx+b\n",
    "summ1 = 0\n",
    "for i in range(len(x)):\n",
    "    summ1 += x[i]*y[i]\n",
    "    \n",
    "summ2 = sum(x)*sum(y)\n",
    "\n",
    "summ3 = 0\n",
    "for i in range(len(x)):\n",
    "    summ3 += x[i]**2\n",
    "\n",
    "k = (n*summ1 - summ2)/((n*summ3)-sum(x)**2)\n",
    "print(f'Коэффициент k: {k}')"
   ]
  },
  {
   "cell_type": "code",
   "execution_count": 364,
   "metadata": {},
   "outputs": [
    {
     "name": "stdout",
     "output_type": "stream",
     "text": [
      "Коэффициент b: 40.223045076789234\n"
     ]
    }
   ],
   "source": [
    "#b = (sum(y)-k*sum(x))/n\n",
    "print(f'Коэффициент b: {b}')"
   ]
  },
  {
   "cell_type": "code",
   "execution_count": 269,
   "metadata": {},
   "outputs": [
    {
     "name": "stdout",
     "output_type": "stream",
     "text": [
      "[41.08857975981778, 41.95411444284634, 41.95411444284634, 42.127221379452045, 43.85829074550915, 44.37761155532628, 44.37761155532628, 44.37761155532628, 44.55071849193199, 44.896932365143414, 45.07003930174912, 45.416253174960545, 45.58936011156625, 45.76246704817196, 45.935573984777676, 46.10868092138338, 46.10868092138338, 46.281787857989094, 46.45489479459481, 46.45489479459481, 46.97421560441194, 47.49353641422907, 47.666643350834775, 47.666643350834775, 47.83975028744049, 48.35907109725762, 48.53217803386333, 48.87839190707475, 49.91703352670901, 50.090140463314725, 50.609461273131856, 51.30188901955469, 51.99431676597754, 52.51363757579467, 53.0329583856118, 53.20606532221751, 53.37917225882322, 53.37917225882322, 53.55227919542893, 54.764027751668905, 54.764027751668905, 54.93713468827461, 55.80266937130317, 55.80266937130317, 55.80266937130317, 55.97577630790887, 55.97577630790887, 56.3219901811203, 57.18752486414884, 57.53373873736027]\n"
     ]
    },
    {
     "data": {
      "text/plain": [
       "[<matplotlib.lines.Line2D at 0x201505d68e0>]"
      ]
     },
     "execution_count": 269,
     "metadata": {},
     "output_type": "execute_result"
    },
    {
     "data": {
      "image/png": "[encoded data removed]",
      "text/plain": [
       "<Figure size 432x288 with 1 Axes>"
      ]
     },
     "metadata": {
      "needs_background": "light"
     },
     "output_type": "display_data"
    }
   ],
   "source": [
    "y1 = []\n",
    "for i in range(len(x)):\n",
    "    new_y = k*x[i] + b\n",
    "    y1.append(new_y)\n",
    "print(y1)\n",
    "plt.plot(x, y1)\n",
    "plt.plot(x, y)"
   ]
  },
  {
   "cell_type": "code",
   "execution_count": 270,
   "metadata": {},
   "outputs": [
    {
     "name": "stdout",
     "output_type": "stream",
     "text": [
      "\n",
      "Дисперсия: 55.53373873736027\n"
     ]
    }
   ],
   "source": [
    "# дисперсия\n",
    "summ_d = 0\n",
    "print()\n",
    "for i in range(len(x)):\n",
    "    summ_d = (points[i][1] - y1[i])**2\n",
    "print(f'Дисперсия: {math.sqrt(summ_d)}')"
   ]
  },
  {
   "cell_type": "markdown",
   "metadata": {},
   "source": [
    "# пункт 5"
   ]
  },
  {
   "cell_type": "code",
   "execution_count": 271,
   "metadata": {},
   "outputs": [
    {
     "name": "stdout",
     "output_type": "stream",
     "text": [
      "Введите количество точек: 50\n",
      "Массив координат X: [-93, -92, -91, -88, -88, -87, -86, -84, -76, -74, -73, -69, -61, -57, -54, -40, -39, -31, -31, -28, -27, -26, -16, -6, -1, 4, 11, 14, 14, 16, 25, 27, 27, 28, 30, 37, 38, 38, 41, 59, 60, 63, 67, 76, 76, 82, 84, 89, 90, 94]\n",
      "Массив координат Y: [-40, 63, 58, -28, -48, 77, 13, 44, 93, 57, -7, -76, -100, 69, -54, 58, -56, 45, -38, -45, -63, 77, 72, 54, 60, 45, 1, 33, 96, 48, 44, 5, -2, 56, -43, 96, 68, -34, -21, -1, -98, 58, 2, 86, -88, -34, -48, 24, -57, 75]\n"
     ]
    }
   ],
   "source": [
    "n = int(input('Введите количество точек: '))\n",
    "x = [random.randint(-100, 100) for i in range(n)]\n",
    "\n",
    "y = [random.randint(-100, 100) for i in range(len(x))]\n",
    "x.sort()\n",
    "print(f'Массив координат X: {x}')\n",
    "print(f'Массив координат Y: {y}')\n",
    "points = []"
   ]
  },
  {
   "cell_type": "code",
   "execution_count": 272,
   "metadata": {},
   "outputs": [
    {
     "name": "stdout",
     "output_type": "stream",
     "text": [
      "Массив точек: [[-93, -40], [-92, 63], [-91, 58], [-88, -28], [-88, -48], [-87, 77], [-86, 13], [-84, 44], [-76, 93], [-74, 57], [-73, -7], [-69, -76], [-61, -100], [-57, 69], [-54, -54], [-40, 58], [-39, -56], [-31, 45], [-31, -38], [-28, -45], [-27, -63], [-26, 77], [-16, 72], [-6, 54], [-1, 60], [4, 45], [11, 1], [14, 33], [14, 96], [16, 48], [25, 44], [27, 5], [27, -2], [28, 56], [30, -43], [37, 96], [38, 68], [38, -34], [41, -21], [59, -1], [60, -98], [63, 58], [67, 2], [76, 86], [76, -88], [82, -34], [84, -48], [89, 24], [90, -57], [94, 75]]\n"
     ]
    }
   ],
   "source": [
    "for i in range(len(x)):\n",
    "    points.append([])\n",
    "    points[i].append(x[i])\n",
    "    points[i].append(y[i])\n",
    "print(f'Массив точек: {points}')"
   ]
  },
  {
   "cell_type": "code",
   "execution_count": 273,
   "metadata": {},
   "outputs": [
    {
     "data": {
      "text/plain": [
       "[<matplotlib.lines.Line2D at 0x2015061eb80>]"
      ]
     },
     "execution_count": 273,
     "metadata": {},
     "output_type": "execute_result"
    },
    {
     "data": {
      "image/png": "[encoded data removed]",
      "text/plain": [
       "<Figure size 432x288 with 1 Axes>"
      ]
     },
     "metadata": {
      "needs_background": "light"
     },
     "output_type": "display_data"
    }
   ],
   "source": [
    "plt.plot(x, y)"
   ]
  },
  {
   "cell_type": "code",
   "execution_count": 274,
   "metadata": {},
   "outputs": [
    {
     "name": "stdout",
     "output_type": "stream",
     "text": [
      "a0*177874 + a1*-228 + a2*50 = 596 \n",
      "a0*-2361606 + a1*177874 + a0*-228 = -10417\n",
      "a0*1093483510 + a1*-2361606 + a2*177874 = 1132531\n"
     ]
    }
   ],
   "source": [
    "summ_kv = 0\n",
    "for i in range(len(x)):\n",
    "    summ_kv+= x[i]**2\n",
    "summ_cube = 0\n",
    "for i in range(len(x)):\n",
    "    summ_cube+= x[i]**3\n",
    "summ_four = 0\n",
    "for i in range(len(x)):\n",
    "    summ_four+= x[i]**4\n",
    "summ_xy = 0\n",
    "for i in range(len(x)):\n",
    "    summ_xy += x[i]*y[i]\n",
    "summ_xkvy = 0\n",
    "for i in range(len(x)):\n",
    "    summ_xkvy += (x[i]**2)*y[i]\n",
    "print(f'a0*{summ_kv} + a1*{sum(x)} + a2*{n} = {sum(y)} \\na0*{summ_cube} + a1*{summ_kv} + a0*{sum(x)} = {summ_xy}\\na0*{summ_four} + a1*{summ_cube} + a2*{summ_kv} = {summ_xkvy}')\n",
    "matr = []\n",
    "# all_summ=[]\n",
    "# all_sum.append(summ_kv)\n",
    "# all_sum.append(sum(x))\n",
    "# all_sum.append(summ_cube)\n",
    "# all_sum.append(summ_kv)\n",
    "\n",
    "# for i in range(3):\n",
    "#     matr.append([])\n",
    "#     for j in range(3):\n",
    "#         matr[i].append()"
   ]
  },
  {
   "cell_type": "code",
   "execution_count": 275,
   "metadata": {},
   "outputs": [],
   "source": [
    "A = [[summ_kv, sum(x), n, sum(y)], [summ_cube, summ_kv, sum(x), summ_xy], [summ_four, summ_cube, summ_kv, summ_xkvy]]\n",
    "x_jacob = jdmethod_fast(A)"
   ]
  },
  {
   "cell_type": "code",
   "execution_count": 276,
   "metadata": {},
   "outputs": [
    {
     "name": "stdout",
     "output_type": "stream",
     "text": [
      "[[-2.36014781e-03]\n",
      " [-6.42332920e-02]\n",
      " [ 2.00232748e+01]]\n",
      "[array([5.58405255]), array([5.9564466]), array([6.32412036]), array([7.39881986]), array([7.39881986]), array([7.74761243]), array([8.09168471]), array([8.76566839]), array([11.27279125]), array([11.85236901]), array([12.13507745]), array([13.21870824]), array([15.15939563]), array([16.01645223]), array([16.60968157]), array([18.81637001]), array([18.93858839]), array([19.74640483]), array([19.74640483]), array([19.97145112]), array([20.03702596]), array([20.0978805]), array([20.44680966]), array([20.32370926]), array([20.08514798]), array([19.7285793]), array([19.03113074]), array([18.66141977]), array([18.66141977]), array([18.39134432]), array([16.94235015]), array([16.56842819]), array([16.56842819]), array([16.37438677]), array([15.97214304]), array([14.41560067]), array([14.17435629]), array([14.17435629]), array([13.42230139]), array([8.01783607]), array([7.67274519]), array([6.60915077]), array([5.12494074]), array([1.50933087]), array([1.50933087]), array([-1.11348901]), array([-2.02552467]), array([-4.38821898]), array([-4.87491873]), array([-6.86892069])]\n"
     ]
    }
   ],
   "source": [
    "print(x_jacob)\n",
    "y_2 = [random.randint(0, 100) for i in range(len(x))]\n",
    "for i in range(len(x)):\n",
    "    y_2[i] = x_jacob[0]*x[i]**2 +  x_jacob[1]*x[i] + x_jacob[2]\n",
    "print(y_2)"
   ]
  },
  {
   "cell_type": "code",
   "execution_count": 277,
   "metadata": {},
   "outputs": [
    {
     "data": {
      "text/plain": [
       "[<matplotlib.lines.Line2D at 0x20150683be0>]"
      ]
     },
     "execution_count": 277,
     "metadata": {},
     "output_type": "execute_result"
    },
    {
     "data": {
      "image/png": "[encoded data removed]",
      "text/plain": [
       "<Figure size 432x288 with 1 Axes>"
      ]
     },
     "metadata": {
      "needs_background": "light"
     },
     "output_type": "display_data"
    }
   ],
   "source": [
    "plt.plot(x, y_2)\n",
    "plt.plot(x, y)"
   ]
  },
  {
   "cell_type": "code",
   "execution_count": 278,
   "metadata": {},
   "outputs": [
    {
     "name": "stdout",
     "output_type": "stream",
     "text": [
      "Дисперсия: 81.86892069271975\n"
     ]
    }
   ],
   "source": [
    "#дисперсия\n",
    "summ_d = 0\n",
    "for i in range(len(x)):\n",
    "    summ_d = (y_2[i] - y[i])**2\n",
    "print(f'Дисперсия: {math.sqrt(summ_d)}')"
   ]
  },
  {
   "cell_type": "markdown",
   "metadata": {},
   "source": [
    "# пункт 6"
   ]
  },
  {
   "cell_type": "code",
   "execution_count": 402,
   "metadata": {},
   "outputs": [
    {
     "name": "stdout",
     "output_type": "stream",
     "text": [
      "Введите количество точек: 50\n",
      "Массив координат X: [-100, -94, -91, -90, -83, -79, -74, -69, -68, -65, -60, -60, -58, -58, -56, -54, -48, -40, -39, -35, -31, -26, -24, -22, -12, -8, 10, 12, 15, 16, 16, 21, 28, 30, 38, 42, 42, 45, 46, 60, 60, 80, 80, 80, 82, 88, 90, 92, 99, 100]\n",
      "Массив координат Y: [15, 81, 99, 85, -74, -74, 83, 1, 7, -75, -99, -56, 93, -68, 92, -11, -26, 31, -13, -74, 12, -77, -31, -94, 83, -43, 49, -72, 90, -35, -66, -54, 67, -87, -6, -63, 89, 27, 38, -85, 1, 75, 29, -38, -88, 74, 24, -6, -33, -19]\n"
     ]
    }
   ],
   "source": [
    "n = int(input('Введите количество точек: '))\n",
    "x = [random.randint(-100, 100) for i in range(n)]\n",
    "\n",
    "y = [random.randint(-100, 100) for i in range(len(x))]\n",
    "x.sort()\n",
    "print(f'Массив координат X: {x}')\n",
    "print(f'Массив координат Y: {y}')\n",
    "points = []"
   ]
  },
  {
   "cell_type": "code",
   "execution_count": 403,
   "metadata": {},
   "outputs": [
    {
     "name": "stdout",
     "output_type": "stream",
     "text": [
      "Массив точек: [[-100, 15], [-94, 81], [-91, 99], [-90, 85], [-83, -74], [-79, -74], [-74, 83], [-69, 1], [-68, 7], [-65, -75], [-60, -99], [-60, -56], [-58, 93], [-58, -68], [-56, 92], [-54, -11], [-48, -26], [-40, 31], [-39, -13], [-35, -74], [-31, 12], [-26, -77], [-24, -31], [-22, -94], [-12, 83], [-8, -43], [10, 49], [12, -72], [15, 90], [16, -35], [16, -66], [21, -54], [28, 67], [30, -87], [38, -6], [42, -63], [42, 89], [45, 27], [46, 38], [60, -85], [60, 1], [80, 75], [80, 29], [80, -38], [82, -88], [88, 74], [90, 24], [92, -6], [99, -33], [100, -19]]\n"
     ]
    }
   ],
   "source": [
    "for i in range(len(x)):\n",
    "    points.append([])\n",
    "    points[i].append(x[i])\n",
    "    points[i].append(y[i])\n",
    "print(f'Массив точек: {points}')"
   ]
  },
  {
   "cell_type": "code",
   "execution_count": 404,
   "metadata": {},
   "outputs": [
    {
     "data": {
      "text/plain": [
       "[<matplotlib.lines.Line2D at 0x20152d14820>]"
      ]
     },
     "execution_count": 404,
     "metadata": {},
     "output_type": "execute_result"
    },
    {
     "data": {
      "image/png": "[encoded data removed]",
      "text/plain": [
       "<Figure size 432x288 with 1 Axes>"
      ]
     },
     "metadata": {
      "needs_background": "light"
     },
     "output_type": "display_data"
    }
   ],
   "source": [
    "plt.plot(x, y)\n"
   ]
  },
  {
   "cell_type": "code",
   "execution_count": 405,
   "metadata": {},
   "outputs": [
    {
     "name": "stdout",
     "output_type": "stream",
     "text": [
      "Вероятность выпадения: 0.005\n",
      "Коэффициент С: 7.8474571893742056\n",
      "Коэффициент b: -0.8599999999999994\n",
      "Коэффициент a: 0.05083714007916064\n"
     ]
    }
   ],
   "source": [
    "x__ = 1/n*(sum(x))\n",
    "p = 1/200\n",
    "print(f'Вероятность выпадения: {p}')\n",
    "summ_ = 0\n",
    "for i in range(len(x)):\n",
    "    summ_ += (x[i] - x__)**2\n",
    "S_0 = math.sqrt((1/(n-1))*summ_)\n",
    "c = S_0/(math.sqrt(S_0))\n",
    "print(f'Коэффициент С: {c}')\n",
    "summ_E = 0\n",
    "for i in range(len(x)): \n",
    "    summ_E += x[i]*p\n",
    "print(f'Коэффициент b: {summ_E}')\n",
    "a = 1/(c*(math.sqrt(2*math.pi)))\n",
    "print(f'Коэффициент a: {a}')\n"
   ]
  },
  {
   "cell_type": "code",
   "execution_count": 406,
   "metadata": {},
   "outputs": [
    {
     "name": "stdout",
     "output_type": "stream",
     "text": [
      "Значения функции Гаусса: [2.464106707039808e-71, 3.370349701746042e-63, 2.542567615974435e-59, 4.673003550297616e-58, 1.3333264368134075e-49, 4.428549383199794e-45, 9.562411808509103e-40, 9.16773282084437e-35, 8.24683823002919e-34, 4.9401178699026195e-31, 1.0983258724440755e-26, 1.0983258724440755e-26, 4.795098915452297e-25, 4.795098915452297e-25, 1.8384257546504708e-23, 6.18980245865969e-22, 1.0835822502897159e-17, 7.990838775203238e-13, 2.8027774769139708e-12, 3.065695685014006e-10, 1.9943351378726613e-08, 1.7743292542833786e-06, 8.51133015251869e-06, 3.585443058152556e-05, 0.006776451326936533, 0.022215766469933496, 0.007489348731362858, 0.003466460961919461, 0.0008555911238348206, 0.0005029413466915202, 0.0005029413466915202, 2.168731674892701e-05, 6.798020481312837e-08, 9.773817988080041e-09, 1.1392342885364868e-12, 5.6413164251655225e-15, 5.6413164251655225e-15, 7.487885803016959e-17, 1.6614089567843757e-17, 3.847256713121622e-28, 3.847256713121622e-28, 3.9474217614329386e-48, 3.9474217614329386e-48, 3.9474217614329386e-48, 1.9370092525362573e-50, 1.0497338458181893e-57, 3.0635575213756975e-60, 7.851543600743602e-63, 2.4055597691503665e-72, 9.240442400792581e-74]\n"
     ]
    }
   ],
   "source": [
    "## гаусова функция \n",
    "y_nr = [random.randint(-100, 100) for i in range(len(x))]\n",
    "for i in range(len(x)):\n",
    "    y_nr[i] = a*math.e**(-((x[i]-summ_E)**2)/((c**2)))\n",
    "print(f'Значения функции Гаусса: {y_nr}')"
   ]
  },
  {
   "cell_type": "code",
   "execution_count": 407,
   "metadata": {},
   "outputs": [
    {
     "data": {
      "text/plain": [
       "[<matplotlib.lines.Line2D at 0x20152d72dc0>]"
      ]
     },
     "execution_count": 407,
     "metadata": {},
     "output_type": "execute_result"
    },
    {
     "data": {
      "image/png": "[encoded data removed]",
      "text/plain": [
       "<Figure size 432x288 with 1 Axes>"
      ]
     },
     "metadata": {
      "needs_background": "light"
     },
     "output_type": "display_data"
    }
   ],
   "source": [
    "plt.plot(x, y_nr)\n",
    "#plt.xlim([60,75])"
   ]
  },
  {
   "cell_type": "code",
   "execution_count": 408,
   "metadata": {},
   "outputs": [
    {
     "name": "stdout",
     "output_type": "stream",
     "text": [
      "Дисперсия: 19.0\n"
     ]
    }
   ],
   "source": [
    "summ_d = 0\n",
    "for i in range(len(x)):\n",
    "    summ_d = (y_nr[i] - y[i])**2\n",
    "print(f'Дисперсия: {math.sqrt(summ_d)}')"
   ]
  },
  {
   "cell_type": "markdown",
   "metadata": {},
   "source": [
    "# ЗАДАЧА 2 пункт 2\n"
   ]
  },
  {
   "cell_type": "code",
   "execution_count": 409,
   "metadata": {},
   "outputs": [],
   "source": [
    "import csv "
   ]
  },
  {
   "cell_type": "code",
   "execution_count": 410,
   "metadata": {},
   "outputs": [],
   "source": [
    "with open(\"Книга1.xlsx\", encoding='utf-8') as r_file:\n",
    "    # Создаем объект reader, указываем символ-разделитель \",\"\n",
    "    file_reader = csv.reader(\"Кни.xlsx\", delimiter = \",\")"
   ]
  },
  {
   "cell_type": "code",
   "execution_count": 2,
   "metadata": {},
   "outputs": [
    {
     "name": "stdout",
     "output_type": "stream",
     "text": [
      "[73.08, 72.4, 72.96, 73.7, 73.84, 72.46, 72.18, 70.9, 70.8, 69.7, 71.0, 70.28, 70.46, 70.6, 70.68, 70.72, 71.0, 71.18, 70.38, 69.02, 68.92, 69.48, 69.72, 69.28, 69.3, 68.74, 69.04, 69.1, 69.12, 70.4, 69.4, 69.92, 69.86, 71.22, 70.64, 69.44, 69.58, 69.48, 70.1, 69.9, 70.16, 70.96, 70.42, 69.94, 69.44, 69.8, 69.32, 67.72, 65.94, 66.48, 67.94, 67.7, 66.84, 67.66, 67.32, 67.5, 67.34, 66.94, 67.14, 66.88, 66.28, 66.5, 65.42, 65.54, 65.54, 66.3, 65.56, 64.5, 63.78, 64.3, 65.3, 66.16, 65.7, 65.18, 64.8, 64.4, 65.34, 65.38, 65.5, 65.96, 66.82, 66.4, 65.98, 66.74, 67.52, 70.96, 71.0, 69.7, 70.32, 71.36, 71.84, 71.52, 70.66, 71.2, 69.9, 70.08, 71.2, 71.36, 71.52, 71.48, 71.38, 71.42, 73.92, 73.64, 73.42, 72.42, 70.66, 69.96, 69.96, 71.5, 71.36, 71.8, 70.66, 69.16, 69.98, 69.2, 68.08, 68.62, 68.54, 68.68, 69.48, 68.5, 68.2, 68.6, 68.86, 68.9, 68.24, 68.18, 67.76, 66.58, 66.8, 68.02, 67.78, 67.28, 66.64, 66.42, 66.3, 67.4, 67.14, 67.46, 66.9, 67.3, 66.78, 67.32, 66.98, 67.16, 67.16, 67.16, 67.1, 66.76, 66.92, 67.02, 68.0, 67.18, 67.38, 68.58, 68.3, 68.26, 68.06, 68.8, 69.3, 69.5, 69.44, 69.46, 69.5, 68.74, 68.16, 67.4, 66.72, 67.12, 67.5, 66.9, 67.18, 66.74, 66.8, 66.22, 67.34, 67.48, 67.02, 69.18, 70.5, 68.86, 70.12, 69.88, 70.28, 69.22, 70.0, 70.9, 71.34, 71.1, 70.3, 70.5, 70.22, 70.06, 69.68, 69.82, 69.24, 68.5, 67.76, 67.38, 67.86, 67.5, 68.64, 68.14, 68.5]\n"
     ]
    }
   ],
   "source": [
    "import pandas as pd\n",
    "\n",
    "df = pd.read_excel(\"Книга1.xlsx\")\n",
    "mylist = df['ДАТА'].tolist()\n",
    "mylist2 = df['ЦЕНА'].tolist()\n",
    "print(mylist2)"
   ]
  },
  {
   "cell_type": "code",
   "execution_count": 412,
   "metadata": {},
   "outputs": [
    {
     "data": {
      "text/plain": [
       "[1,\n",
       " 2,\n",
       " 3,\n",
       " 4,\n",
       " 5,\n",
       " 6,\n",
       " 7,\n",
       " 8,\n",
       " 9,\n",
       " 10,\n",
       " 11,\n",
       " 12,\n",
       " 13,\n",
       " 14,\n",
       " 15,\n",
       " 16,\n",
       " 17,\n",
       " 18,\n",
       " 19,\n",
       " 20,\n",
       " 21,\n",
       " 22,\n",
       " 23,\n",
       " 24,\n",
       " 25,\n",
       " 26,\n",
       " 27,\n",
       " 28,\n",
       " 29,\n",
       " 30,\n",
       " 31,\n",
       " 32,\n",
       " 33,\n",
       " 34,\n",
       " 35,\n",
       " 36,\n",
       " 37,\n",
       " 38,\n",
       " 39,\n",
       " 40,\n",
       " 41,\n",
       " 42,\n",
       " 43,\n",
       " 44,\n",
       " 45,\n",
       " 46,\n",
       " 47,\n",
       " 48,\n",
       " 49,\n",
       " 50,\n",
       " 51,\n",
       " 52,\n",
       " 53,\n",
       " 54,\n",
       " 55,\n",
       " 56,\n",
       " 57,\n",
       " 58,\n",
       " 59,\n",
       " 60,\n",
       " 61,\n",
       " 62,\n",
       " 63,\n",
       " 64,\n",
       " 65,\n",
       " 66,\n",
       " 67,\n",
       " 68,\n",
       " 69,\n",
       " 70,\n",
       " 71,\n",
       " 72,\n",
       " 73,\n",
       " 74,\n",
       " 75,\n",
       " 76,\n",
       " 77,\n",
       " 78,\n",
       " 79,\n",
       " 80,\n",
       " 81,\n",
       " 82,\n",
       " 83,\n",
       " 84,\n",
       " 85,\n",
       " 86,\n",
       " 87,\n",
       " 88,\n",
       " 89,\n",
       " 90,\n",
       " 91,\n",
       " 92,\n",
       " 93,\n",
       " 94,\n",
       " 95,\n",
       " 96,\n",
       " 97,\n",
       " 98,\n",
       " 99,\n",
       " 100,\n",
       " 101,\n",
       " 102,\n",
       " 103,\n",
       " 104,\n",
       " 105,\n",
       " 106,\n",
       " 107,\n",
       " 108,\n",
       " 109,\n",
       " 110,\n",
       " 111,\n",
       " 112,\n",
       " 113,\n",
       " 114,\n",
       " 115,\n",
       " 116,\n",
       " 117,\n",
       " 118,\n",
       " 119,\n",
       " 120,\n",
       " 121,\n",
       " 122,\n",
       " 123,\n",
       " 124,\n",
       " 125,\n",
       " 126,\n",
       " 127,\n",
       " 128,\n",
       " 129,\n",
       " 130,\n",
       " 131,\n",
       " 132,\n",
       " 133,\n",
       " 134,\n",
       " 135,\n",
       " 136,\n",
       " 137,\n",
       " 138,\n",
       " 139,\n",
       " 140,\n",
       " 141,\n",
       " 142,\n",
       " 143,\n",
       " 144,\n",
       " 145,\n",
       " 146,\n",
       " 147,\n",
       " 148,\n",
       " 149,\n",
       " 150,\n",
       " 151,\n",
       " 152,\n",
       " 153,\n",
       " 154,\n",
       " 155,\n",
       " 156,\n",
       " 157,\n",
       " 158,\n",
       " 159,\n",
       " 160,\n",
       " 161,\n",
       " 162,\n",
       " 163,\n",
       " 164,\n",
       " 165,\n",
       " 166,\n",
       " 167,\n",
       " 168,\n",
       " 169,\n",
       " 170,\n",
       " 171,\n",
       " 172,\n",
       " 173,\n",
       " 174,\n",
       " 175,\n",
       " 176,\n",
       " 177,\n",
       " 178,\n",
       " 179,\n",
       " 180,\n",
       " 181,\n",
       " 182,\n",
       " 183,\n",
       " 184,\n",
       " 185,\n",
       " 186,\n",
       " 187,\n",
       " 188,\n",
       " 189,\n",
       " 190,\n",
       " 191,\n",
       " 192,\n",
       " 193,\n",
       " 194,\n",
       " 195,\n",
       " 196,\n",
       " 197,\n",
       " 198,\n",
       " 199,\n",
       " 200,\n",
       " 201,\n",
       " 202,\n",
       " 203,\n",
       " 204,\n",
       " 205]"
      ]
     },
     "execution_count": 412,
     "metadata": {},
     "output_type": "execute_result"
    }
   ],
   "source": [
    "x = []\n",
    "a = 1\n",
    "for i in range(len(mylist)):\n",
    "    x.append(a)\n",
    "    a+=1\n",
    "x\n",
    "\n"
   ]
  },
  {
   "cell_type": "code",
   "execution_count": 395,
   "metadata": {},
   "outputs": [
    {
     "data": {
      "text/plain": [
       "205"
      ]
     },
     "execution_count": 395,
     "metadata": {},
     "output_type": "execute_result"
    }
   ],
   "source": [
    "len(mylist2)"
   ]
  },
  {
   "cell_type": "code",
   "execution_count": 413,
   "metadata": {},
   "outputs": [
    {
     "data": {
      "text/plain": [
       "[<matplotlib.lines.Line2D at 0x20152de01c0>]"
      ]
     },
     "execution_count": 413,
     "metadata": {},
     "output_type": "execute_result"
    },
    {
     "data": {
      "image/png": "[encoded data removed]",
      "text/plain": [
       "<Figure size 432x288 with 1 Axes>"
      ]
     },
     "metadata": {
      "needs_background": "light"
     },
     "output_type": "display_data"
    }
   ],
   "source": [
    "plt.plot(x, mylist2)"
   ]
  },
  {
   "cell_type": "code",
   "execution_count": 414,
   "metadata": {},
   "outputs": [
    {
     "name": "stdout",
     "output_type": "stream",
     "text": [
      "Вероятность выпадения: 0.005\n",
      "Коэффициент С: 13018.790798231314\n",
      "Коэффициент b: 105.575\n",
      "Коэффициент a: 3.064357409104627e-05\n"
     ]
    }
   ],
   "source": [
    "x__ = (1/n)*(sum(mylist))\n",
    "p = 1/200\n",
    "print(f'Вероятность выпадения: {p}')\n",
    "summ_ = 0\n",
    "for i in range(len(x)):\n",
    "    summ_ += (x[i] - x__)**2\n",
    "S_0 = math.sqrt((1/(n-1))*summ_)\n",
    "c = S_0/(math.sqrt(S_0))\n",
    "print(f'Коэффициент С: {c}')\n",
    "summ_E = 0\n",
    "for i in range(len(x)): \n",
    "    summ_E += x[i]*p\n",
    "print(f'Коэффициент b: {summ_E}')\n",
    "a = 1/(c*(math.sqrt(2*math.pi)))\n",
    "print(f'Коэффициент a: {a}')\n"
   ]
  },
  {
   "cell_type": "code",
   "execution_count": 415,
   "metadata": {},
   "outputs": [
    {
     "name": "stdout",
     "output_type": "stream",
     "text": [
      "Значения функции Гаусса: [3.064159693996516e-05, 3.064163457105367e-05, 3.0641671840611105e-05, 3.064170874863612e-05, 3.064174529512744e-05, 3.064178148008374e-05, 3.0641817303503765e-05, 3.064185276538623e-05, 3.0641887865729885e-05, 3.064192260453349e-05, 3.064195698179581e-05, 3.064199099751562e-05, 3.064202465169175e-05, 3.064205794432297e-05, 3.064209087540812e-05, 3.0642123444946027e-05, 3.0642155652935544e-05, 3.064218749937553e-05, 3.064221898426486e-05, 3.064225010760241e-05, 3.0642280869387084e-05, 3.06423112696178e-05, 3.0642341308293466e-05, 3.064237098541303e-05, 3.064240030097545e-05, 3.064242925497967e-05, 3.064245784742467e-05, 3.064248607830944e-05, 3.064251394763298e-05, 3.064254145539431e-05, 3.064256860159245e-05, 3.0642595386226434e-05, 3.064262180929533e-05, 3.0642647870798183e-05, 3.0642673570734076e-05, 3.064269890910211e-05, 3.0642723885901385e-05, 3.0642748501131006e-05, 3.0642772754790105e-05, 3.0642796646877835e-05, 3.0642820177393336e-05, 3.064284334633578e-05, 3.064286615370435e-05, 3.064288859949824e-05, 3.0642910683716645e-05, 3.0642932406358797e-05, 3.0642953767423915e-05, 3.064297476691125e-05, 3.0642995404820055e-05, 3.06430156811496e-05, 3.064303559589917e-05, 3.0643055149068056e-05, 3.064307434065557e-05, 3.064309317066103e-05, 3.064311163908377e-05, 3.064312974592314e-05, 3.064314749117849e-05, 3.06431648748492e-05, 3.0643181896934646e-05, 3.064319855743424e-05, 3.064321485634737e-05, 3.0643230793673484e-05, 3.0643246369412004e-05, 3.064326158356237e-05, 3.0643276436124064e-05, 3.064329092709655e-05, 3.0643305056479315e-05, 3.064331882427186e-05, 3.0643332230473693e-05, 3.0643345275084346e-05, 3.0643357958103356e-05, 3.064337027953027e-05, 3.064338223936465e-05, 3.064339383760609e-05, 3.064340507425415e-05, 3.0643415949308455e-05, 3.0643426462768614e-05, 3.0643436614634256e-05, 3.0643446404905016e-05, 3.0643455833580555e-05, 3.0643464900660535e-05, 3.0643473606144636e-05, 3.064348195003255e-05, 3.064348993232398e-05, 3.064349755301864e-05, 3.064350481211627e-05, 3.0643511709616606e-05, 3.06435182455194e-05, 3.064352441982443e-05, 3.064353023253148e-05, 3.064353568364033e-05, 3.06435407731508e-05, 3.06435455010627e-05, 3.0643549867375866e-05, 3.064355387209015e-05, 3.06435575152054e-05, 3.06435607967215e-05, 3.0643563716638315e-05, 3.064356627495576e-05, 3.064356847167374e-05, 3.0643570306792166e-05, 3.064357178031098e-05, 3.064357289223014e-05, 3.064357364254959e-05, 3.0643574031269314e-05, 3.0643574058389296e-05, 3.064357372390953e-05, 3.064357302783004e-05, 3.064357197015083e-05, 3.064357055087196e-05, 3.0643568769993476e-05, 3.064356662751543e-05, 3.0643564123437895e-05, 3.0643561257760975e-05, 3.064355803048477e-05, 3.0643554441609375e-05, 3.064355049113494e-05, 3.06435461790616e-05, 3.06435415053895e-05, 3.06435364701188e-05, 3.064353107324969e-05, 3.064352531478237e-05, 3.064351919471702e-05, 3.064351271305387e-05, 3.064350586979315e-05, 3.06434986649351e-05, 3.0643491098479975e-05, 3.064348317042804e-05, 3.064347488077958e-05, 3.0643466229534896e-05, 3.064345721669428e-05, 3.0643447842258054e-05, 3.0643438106226554e-05, 3.0643428008600124e-05, 3.064341754937912e-05, 3.0643406728563906e-05, 3.064339554615488e-05, 3.064338400215243e-05, 3.064337209655696e-05, 3.06433598293689e-05, 3.064334720058868e-05, 3.0643334210216743e-05, 3.064332085825355e-05, 3.0643307144699585e-05, 3.064329306955532e-05, 3.064327863282127e-05, 3.064326383449792e-05, 3.064324867458581e-05, 3.064323315308548e-05, 3.0643217269997476e-05, 3.0643201025322356e-05, 3.0643184419060695e-05, 3.064316745121309e-05, 3.064315012178013e-05, 3.064313243076244e-05, 3.0643114378160634e-05, 3.064309596397536e-05, 3.064307718820726e-05, 3.064305805085701e-05, 3.064303855192529e-05, 3.0643018691412775e-05, 3.064299846932018e-05, 3.064297788564822e-05, 3.064295694039762e-05, 3.064293563356912e-05, 3.0642913965163476e-05, 3.064289193518146e-05, 3.064286954362384e-05, 3.064284679049142e-05, 3.0642823675785003e-05, 3.064280019950541e-05, 3.064277636165346e-05, 3.064275216223001e-05, 3.064272760123591e-05, 3.064270267867203e-05, 3.064267739453926e-05, 3.064265174883848e-05, 3.0642625741570615e-05, 3.0642599372736565e-05, 3.0642572642337285e-05, 3.064254555037371e-05, 3.06425180968468e-05, 3.0642490281757523e-05, 3.0642462105106875e-05, 3.064243356689584e-05, 3.064240466712544e-05, 3.064237540579669e-05, 3.064234578291063e-05, 3.0642315798468304e-05, 3.0642285452470786e-05, 3.064225474491913e-05, 3.0642223675814445e-05, 3.064219224515781e-05, 3.0642160452950354e-05, 3.064212829919319e-05, 3.064209578388747e-05, 3.064206290703433e-05, 3.064202966863494e-05, 3.064199606869049e-05, 3.064196210720214e-05, 3.064192778417112e-05, 3.064189309959863e-05, 3.06418580534859e-05, 3.0641822645834184e-05, 3.0641786876644715e-05]\n"
     ]
    }
   ],
   "source": [
    "y_nr = [random.randint(-100, 100) for i in range(len(mylist))]\n",
    "for i in range(len(x)):\n",
    "    y_nr[i] = a*math.e**(-((x[i]-summ_E)**2)/((c**2)))\n",
    "print(f'Значения функции Гаусса: {y_nr}')"
   ]
  },
  {
   "cell_type": "code",
   "execution_count": 417,
   "metadata": {},
   "outputs": [
    {
     "data": {
      "text/plain": [
       "[<matplotlib.lines.Line2D at 0x20152e85f40>]"
      ]
     },
     "execution_count": 417,
     "metadata": {},
     "output_type": "execute_result"
    },
    {
     "data": {
      "image/png": "[encoded data removed]",
      "text/plain": [
       "<Figure size 432x288 with 1 Axes>"
      ]
     },
     "metadata": {
      "needs_background": "light"
     },
     "output_type": "display_data"
    }
   ],
   "source": [
    "plt.plot(x, mylist2)\n",
    "plt.plot(x, y_nr)\n"
   ]
  },
  {
   "cell_type": "code",
   "execution_count": null,
   "metadata": {},
   "outputs": [],
   "source": []
  }
 ],
 "metadata": {
  "kernelspec": {
   "display_name": "Python 3",
   "language": "python",
   "name": "python3"
  },
  "language_info": {
   "codemirror_mode": {
    "name": "ipython",
    "version": 3
   },
   "file_extension": ".py",
   "mimetype": "text/x-python",
   "name": "python",
   "nbconvert_exporter": "python",
   "pygments_lexer": "ipython3",
   "version": "3.8.3"
  }
 },
 "nbformat": 4,
 "nbformat_minor": 4
}
